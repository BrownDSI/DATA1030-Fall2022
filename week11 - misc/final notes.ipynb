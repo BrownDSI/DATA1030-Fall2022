{
 "cells": [
  {
   "attachments": {},
   "cell_type": "markdown",
   "id": "d3bf3a7a",
   "metadata": {},
   "source": [
    "# Mudcard\n",
    "- **Kind of a general question: how do you stay motivated during work when you know that most of the time the model you develop will not go to deployment?**\n",
    "    - excellent question!\n",
    "    - let me ramble a bit :)\n",
    "- **When doing A/B testing in applied/business settings, is it at all common to apply robustness checks when calculating p-values?**\n",
    "    - robustness checks determine if the assumptions you made on your dataset are true\n",
    "    - yes, it's pretty common to do this\n",
    "- **Will higher group distribution variance also result in a larger sample sizes needed to reach p-value thresholds (all else being equal)?**\n",
    "    - you want to reduce group variance to 0 by stratifying over these variables\n",
    "- **What are the most common statistical tests used for A/B Testing? you mentioned in your advancement example that you used two-tailed t test. What else?**\n",
    "    - check the links provided in the previous lecture\n",
    "- **I wonder how to calculate this. If the expected accuracy of the treatment group is 0.82, we need at least 10000 points in the samples to observe a significant difference.**\n",
    "    - you need to change the code I provided last lecture\n",
    "    - change B_acc from 0.85 to 0.82\n",
    "    - change n_samples such that 10k is in there\n",
    "- **I'm still not clear about A/B testing on regression problems.**\n",
    "    - plot two distributions:\n",
    "        - control group: |true - prediction_A|\n",
    "        - treatment group: |true - prediction_B|\n",
    "    - figure out what statistical test would be most suitable to decide if the distributions are similar or not"
   ]
  },
  {
   "cell_type": "markdown",
   "id": "42c8b09f",
   "metadata": {},
   "source": [
    "# Final thoughts\n",
    "- supervised ML is a tool\n",
    "    - it's great to solve certain problems but it's not a solution to all problems\n",
    "    - know when it is the right tool to use\n",
    "- Always do data-driven decisions, rely on your intuition but always verify with an experiment!\n",
    "    - don't drop features based on a hunch\n",
    "    - do experiments instead\n",
    "        - run the ML pipeline with all features, calculate the test score\n",
    "        - run the ML pipeline with a subset of features, calculate the test score\n",
    "        - compare the two test scores\n",
    "- Plan your ML pipeline!\n",
    "    - don't start coding immediately\n",
    "    - think about what you want to do and why\n",
    "    - write pseudo-code first\n",
    "    - a clear idea of what you want to do will make you much more efficient\n",
    "- TEST TEST TEST\n",
    "    - don't assume the code does what you expect it to do - it never does\n",
    "    - you'll spend most of your time debugging your own code\n",
    "    - develop strategies to reduce the debugging time!\n",
    "    - you won't find bugs and errors by idly staring at your screen\n",
    "    - print variables, google error messages\n",
    "    - make sure you understand and test each and every line of code you write\n",
    "- **I hope you enjoyed the class and learnt a lot!**\n",
    "    - course feedback forms will be released soon\n",
    "    - let me know what was difficult this term and how I can improve the course for the next cohort\n"
   ]
  }
 ],
 "metadata": {
  "kernelspec": {
   "display_name": "Python 3 (ipykernel)",
   "language": "python",
   "name": "python3"
  },
  "language_info": {
   "codemirror_mode": {
    "name": "ipython",
    "version": 3
   },
   "file_extension": ".py",
   "mimetype": "text/x-python",
   "name": "python",
   "nbconvert_exporter": "python",
   "pygments_lexer": "ipython3",
   "version": "3.10.5"
  }
 },
 "nbformat": 4,
 "nbformat_minor": 5
}
